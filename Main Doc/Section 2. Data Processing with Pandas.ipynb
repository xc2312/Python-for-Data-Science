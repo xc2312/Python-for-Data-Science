{
 "cells": [
  {
   "cell_type": "markdown",
   "metadata": {},
   "source": [
    "# Data Processing with Pandas"
   ]
  },
  {
   "cell_type": "markdown",
   "metadata": {},
   "source": [
    "Changing working directory."
   ]
  },
  {
   "cell_type": "code",
   "execution_count": 2,
   "metadata": {},
   "outputs": [
    {
     "name": "stdout",
     "output_type": "stream",
     "text": [
      "D:\\Data Science\\GitHub\\Python Learning\\Python-for-Data-Science\\Data Files\\Python Learning\n"
     ]
    }
   ],
   "source": [
    "%cd D:\\Data Science\\GitHub\\Python Learning\\Python-for-Data-Science\\Data Files\\Python Learning"
   ]
  },
  {
   "cell_type": "markdown",
   "metadata": {},
   "source": [
    "## 1. The Series Data Structure\n",
    "Series is the <u>one-dimensional</u> data structure in <i>pandas</i>."
   ]
  },
  {
   "cell_type": "code",
   "execution_count": 3,
   "metadata": {},
   "outputs": [],
   "source": [
    "import pandas as pd\n",
    "import numpy as np"
   ]
  },
  {
   "cell_type": "code",
   "execution_count": 4,
   "metadata": {},
   "outputs": [
    {
     "data": {
      "text/plain": [
       "0    Tiger\n",
       "1     Bear\n",
       "2    Moose\n",
       "dtype: object"
      ]
     },
     "execution_count": 4,
     "metadata": {},
     "output_type": "execute_result"
    }
   ],
   "source": [
    "animals = ['Tiger', 'Bear', 'Moose']\n",
    "pd.Series(animals)"
   ]
  },
  {
   "cell_type": "code",
   "execution_count": 5,
   "metadata": {},
   "outputs": [
    {
     "data": {
      "text/plain": [
       "list"
      ]
     },
     "execution_count": 5,
     "metadata": {},
     "output_type": "execute_result"
    }
   ],
   "source": [
    "type(animals)"
   ]
  },
  {
   "cell_type": "markdown",
   "metadata": {},
   "source": [
    "* <b>Handling Missing Values</b>"
   ]
  },
  {
   "cell_type": "code",
   "execution_count": 6,
   "metadata": {},
   "outputs": [
    {
     "data": {
      "text/plain": [
       "0    Tiger\n",
       "1     Bear\n",
       "2     None\n",
       "dtype: object"
      ]
     },
     "execution_count": 6,
     "metadata": {},
     "output_type": "execute_result"
    }
   ],
   "source": [
    "animals = ['Tiger', 'Bear', None]\n",
    "pd.Series(animals)"
   ]
  },
  {
   "cell_type": "code",
   "execution_count": 7,
   "metadata": {},
   "outputs": [
    {
     "data": {
      "text/plain": [
       "0    1.0\n",
       "1    2.0\n",
       "2    NaN\n",
       "dtype: float64"
      ]
     },
     "execution_count": 7,
     "metadata": {},
     "output_type": "execute_result"
    }
   ],
   "source": [
    "numbers = [1, 2, None]\n",
    "pd.Series(numbers)"
   ]
  },
  {
   "cell_type": "markdown",
   "metadata": {},
   "source": [
    "Here pandas series will turn the missing value to be **NaN**, which is <font color = \"red\">different</font> from **None**.\n",
    "<br>\n",
    "To check if a value is **Nan**,"
   ]
  },
  {
   "cell_type": "code",
   "execution_count": 8,
   "metadata": {},
   "outputs": [
    {
     "data": {
      "text/plain": [
       "True"
      ]
     },
     "execution_count": 8,
     "metadata": {},
     "output_type": "execute_result"
    }
   ],
   "source": [
    "np.isnan(pd.Series(numbers)[2])"
   ]
  },
  {
   "cell_type": "markdown",
   "metadata": {},
   "source": [
    "* <b>Creating Series from Dictionaries</b>"
   ]
  },
  {
   "cell_type": "code",
   "execution_count": 9,
   "metadata": {},
   "outputs": [
    {
     "data": {
      "text/plain": [
       "Archery           Bhutan\n",
       "Golf            Scotland\n",
       "Sumo               Japan\n",
       "Taekwondo    South Korea\n",
       "dtype: object"
      ]
     },
     "execution_count": 9,
     "metadata": {},
     "output_type": "execute_result"
    }
   ],
   "source": [
    "sports = {'Archery': 'Bhutan',\n",
    "          'Golf': 'Scotland',\n",
    "          'Sumo': 'Japan',\n",
    "          'Taekwondo': 'South Korea'}\n",
    "s = pd.Series(sports)\n",
    "s"
   ]
  },
  {
   "cell_type": "markdown",
   "metadata": {},
   "source": [
    "* <b>Creating Series with Separate Index Creation</b>"
   ]
  },
  {
   "cell_type": "code",
   "execution_count": 10,
   "metadata": {},
   "outputs": [
    {
     "data": {
      "text/plain": [
       "India      Tiger\n",
       "America     Bear\n",
       "Canada     Moose\n",
       "dtype: object"
      ]
     },
     "execution_count": 10,
     "metadata": {},
     "output_type": "execute_result"
    }
   ],
   "source": [
    "s = pd.Series(['Tiger', 'Bear', 'Moose'], index=['India', 'America', 'Canada'])\n",
    "s"
   ]
  },
  {
   "cell_type": "markdown",
   "metadata": {},
   "source": [
    "If the number of indexes are not aligned with keys, <i>pandas</i> will assign <font color = \"red\">NaN</font> to those missing values."
   ]
  },
  {
   "cell_type": "code",
   "execution_count": 11,
   "metadata": {},
   "outputs": [
    {
     "data": {
      "text/plain": [
       "Golf      Scotland\n",
       "Sumo         Japan\n",
       "Hockey         NaN\n",
       "dtype: object"
      ]
     },
     "execution_count": 11,
     "metadata": {},
     "output_type": "execute_result"
    }
   ],
   "source": [
    "sports = {'Archery': 'Bhutan',\n",
    "          'Golf': 'Scotland',\n",
    "          'Sumo': 'Japan',\n",
    "          'Taekwondo': 'South Korea'}\n",
    "s = pd.Series(sports, index=['Golf', 'Sumo', 'Hockey'])\n",
    "s"
   ]
  },
  {
   "cell_type": "markdown",
   "metadata": {},
   "source": [
    "### 1.1 Querying a Series"
   ]
  },
  {
   "cell_type": "code",
   "execution_count": 12,
   "metadata": {},
   "outputs": [
    {
     "data": {
      "text/plain": [
       "Archery           Bhutan\n",
       "Golf            Scotland\n",
       "Sumo               Japan\n",
       "Taekwondo    South Korea\n",
       "dtype: object"
      ]
     },
     "execution_count": 12,
     "metadata": {},
     "output_type": "execute_result"
    }
   ],
   "source": [
    "sports = {'Archery': 'Bhutan',\n",
    "          'Golf': 'Scotland',\n",
    "          'Sumo': 'Japan',\n",
    "          'Taekwondo': 'South Korea'}\n",
    "s = pd.Series(sports)\n",
    "s"
   ]
  },
  {
   "cell_type": "markdown",
   "metadata": {},
   "source": [
    "* Using <b>iloc</b> and <b>loc</b> attribute to query series"
   ]
  },
  {
   "cell_type": "code",
   "execution_count": 13,
   "metadata": {},
   "outputs": [
    {
     "data": {
      "text/plain": [
       "'South Korea'"
      ]
     },
     "execution_count": 13,
     "metadata": {},
     "output_type": "execute_result"
    }
   ],
   "source": [
    "s.iloc[3] #query by position"
   ]
  },
  {
   "cell_type": "code",
   "execution_count": 14,
   "metadata": {},
   "outputs": [
    {
     "data": {
      "text/plain": [
       "'Scotland'"
      ]
     },
     "execution_count": 14,
     "metadata": {},
     "output_type": "execute_result"
    }
   ],
   "source": [
    "s.loc['Golf'] #query by index"
   ]
  },
  {
   "cell_type": "markdown",
   "metadata": {},
   "source": [
    "<font color = \"blue\">Be careful when using the indexing operator on the series itself. And the safer option is to be more explicit and use the iloc or loc attributes directly. </font>"
   ]
  },
  {
   "cell_type": "markdown",
   "metadata": {},
   "source": [
    "* <b>Appending New Values</b>"
   ]
  },
  {
   "cell_type": "code",
   "execution_count": 15,
   "metadata": {},
   "outputs": [
    {
     "data": {
      "text/plain": [
       "0             1\n",
       "1             2\n",
       "2             3\n",
       "Animal    Bears\n",
       "dtype: object"
      ]
     },
     "execution_count": 15,
     "metadata": {},
     "output_type": "execute_result"
    }
   ],
   "source": [
    "s = pd.Series([1, 2, 3])\n",
    "s.loc['Animal'] = 'Bears'\n",
    "s"
   ]
  },
  {
   "cell_type": "markdown",
   "metadata": {},
   "source": [
    "* <b>Non-unique Index</b>"
   ]
  },
  {
   "cell_type": "code",
   "execution_count": 16,
   "metadata": {},
   "outputs": [],
   "source": [
    "original_sports = pd.Series({'Archery': 'Bhutan',\n",
    "                             'Golf': 'Scotland',\n",
    "                             'Sumo': 'Japan',\n",
    "                             'Taekwondo': 'South Korea'})\n",
    "cricket_loving_countries = pd.Series(['Australia',\n",
    "                                      'Barbados',\n",
    "                                      'Pakistan',\n",
    "                                      'England'], \n",
    "                                   index=['Cricket',\n",
    "                                          'Cricket',\n",
    "                                          'Cricket',\n",
    "                                          'Cricket'])\n",
    "all_countries = original_sports.append(cricket_loving_countries)"
   ]
  },
  {
   "cell_type": "code",
   "execution_count": 17,
   "metadata": {},
   "outputs": [
    {
     "name": "stdout",
     "output_type": "stream",
     "text": [
      "Archery           Bhutan\n",
      "Golf            Scotland\n",
      "Sumo               Japan\n",
      "Taekwondo    South Korea\n",
      "Cricket        Australia\n",
      "Cricket         Barbados\n",
      "Cricket         Pakistan\n",
      "Cricket          England\n",
      "dtype: object\n",
      "Archery           Bhutan\n",
      "Golf            Scotland\n",
      "Sumo               Japan\n",
      "Taekwondo    South Korea\n",
      "dtype: object\n"
     ]
    }
   ],
   "source": [
    "print(all_countries)\n",
    "print(original_sports)"
   ]
  },
  {
   "cell_type": "markdown",
   "metadata": {},
   "source": [
    "<font color = \"blue\"> **Note** that even though we applied <i>.append</i> method to <i>original_sports</i>, the original series was not changed."
   ]
  },
  {
   "cell_type": "markdown",
   "metadata": {},
   "source": [
    "## 2. DataFrame Data Structure\n",
    "Series is the <u>two-dimensional</u> data structure in <i>pandas</i>."
   ]
  },
  {
   "cell_type": "markdown",
   "metadata": {},
   "source": [
    "### 2.1 Query from DataFrame"
   ]
  },
  {
   "cell_type": "code",
   "execution_count": 18,
   "metadata": {},
   "outputs": [
    {
     "data": {
      "text/html": [
       "<div>\n",
       "<style scoped>\n",
       "    .dataframe tbody tr th:only-of-type {\n",
       "        vertical-align: middle;\n",
       "    }\n",
       "\n",
       "    .dataframe tbody tr th {\n",
       "        vertical-align: top;\n",
       "    }\n",
       "\n",
       "    .dataframe thead th {\n",
       "        text-align: right;\n",
       "    }\n",
       "</style>\n",
       "<table border=\"1\" class=\"dataframe\">\n",
       "  <thead>\n",
       "    <tr style=\"text-align: right;\">\n",
       "      <th></th>\n",
       "      <th>Name</th>\n",
       "      <th>Item Purchased</th>\n",
       "      <th>Cost</th>\n",
       "    </tr>\n",
       "  </thead>\n",
       "  <tbody>\n",
       "    <tr>\n",
       "      <th>Store 1</th>\n",
       "      <td>Chris</td>\n",
       "      <td>Dog Food</td>\n",
       "      <td>22.5</td>\n",
       "    </tr>\n",
       "    <tr>\n",
       "      <th>Store 2</th>\n",
       "      <td>Kevyn</td>\n",
       "      <td>Kitty Litter</td>\n",
       "      <td>2.5</td>\n",
       "    </tr>\n",
       "    <tr>\n",
       "      <th>Store 3</th>\n",
       "      <td>Vinod</td>\n",
       "      <td>Bird Seed</td>\n",
       "      <td>5.0</td>\n",
       "    </tr>\n",
       "  </tbody>\n",
       "</table>\n",
       "</div>"
      ],
      "text/plain": [
       "          Name Item Purchased  Cost\n",
       "Store 1  Chris       Dog Food  22.5\n",
       "Store 2  Kevyn   Kitty Litter   2.5\n",
       "Store 3  Vinod      Bird Seed   5.0"
      ]
     },
     "execution_count": 18,
     "metadata": {},
     "output_type": "execute_result"
    }
   ],
   "source": [
    "import pandas as pd\n",
    "\n",
    "purchase_1 = pd.Series({'Name': 'Chris',\n",
    "                       'Item Purchased': 'Dog Food',\n",
    "                       'Cost': 22.50})\n",
    "\n",
    "purchase_2 = pd.Series({'Name': 'Kevyn',\n",
    "                       'Item Purchased': 'Kitty Litter',\n",
    "                       'Cost': 2.50})\n",
    "\n",
    "purchase_3 = pd.Series({'Name': 'Vinod',\n",
    "                       'Item Purchased': 'Bird Seed',\n",
    "                       'Cost': 5.00})\n",
    "\n",
    "# Define the DataFrame here:\n",
    "df = pd.DataFrame([purchase_1, purchase_2, purchase_3], index = ['Store 1', 'Store 2', 'Store 3'])\n",
    "df.head()"
   ]
  },
  {
   "cell_type": "markdown",
   "metadata": {},
   "source": [
    "* Query element from DataFrame using <b>loc</b>."
   ]
  },
  {
   "cell_type": "code",
   "execution_count": 19,
   "metadata": {},
   "outputs": [
    {
     "data": {
      "text/plain": [
       "Name                  Vinod\n",
       "Item Purchased    Bird Seed\n",
       "Cost                      5\n",
       "Name: Store 3, dtype: object"
      ]
     },
     "execution_count": 19,
     "metadata": {},
     "output_type": "execute_result"
    }
   ],
   "source": [
    "df.loc['Store 3']"
   ]
  },
  {
   "cell_type": "markdown",
   "metadata": {},
   "source": [
    "* Index can be <b>non-unique</b>"
   ]
  },
  {
   "cell_type": "code",
   "execution_count": 20,
   "metadata": {},
   "outputs": [
    {
     "data": {
      "text/html": [
       "<div>\n",
       "<style scoped>\n",
       "    .dataframe tbody tr th:only-of-type {\n",
       "        vertical-align: middle;\n",
       "    }\n",
       "\n",
       "    .dataframe tbody tr th {\n",
       "        vertical-align: top;\n",
       "    }\n",
       "\n",
       "    .dataframe thead th {\n",
       "        text-align: right;\n",
       "    }\n",
       "</style>\n",
       "<table border=\"1\" class=\"dataframe\">\n",
       "  <thead>\n",
       "    <tr style=\"text-align: right;\">\n",
       "      <th></th>\n",
       "      <th>Name</th>\n",
       "      <th>Item Purchased</th>\n",
       "      <th>Cost</th>\n",
       "    </tr>\n",
       "  </thead>\n",
       "  <tbody>\n",
       "    <tr>\n",
       "      <th>Store 1</th>\n",
       "      <td>Chris</td>\n",
       "      <td>Dog Food</td>\n",
       "      <td>22.5</td>\n",
       "    </tr>\n",
       "    <tr>\n",
       "      <th>Store 1</th>\n",
       "      <td>Kevyn</td>\n",
       "      <td>Kitty Litter</td>\n",
       "      <td>2.5</td>\n",
       "    </tr>\n",
       "  </tbody>\n",
       "</table>\n",
       "</div>"
      ],
      "text/plain": [
       "          Name Item Purchased  Cost\n",
       "Store 1  Chris       Dog Food  22.5\n",
       "Store 1  Kevyn   Kitty Litter   2.5"
      ]
     },
     "execution_count": 20,
     "metadata": {},
     "output_type": "execute_result"
    }
   ],
   "source": [
    "df2 = pd.DataFrame([purchase_1, purchase_2, purchase_3], index = ['Store 1', 'Store 1', 'Store 3'])\n",
    "df2.loc['Store 1']"
   ]
  },
  {
   "cell_type": "markdown",
   "metadata": {},
   "source": [
    "* Selecting columns"
   ]
  },
  {
   "cell_type": "code",
   "execution_count": 21,
   "metadata": {},
   "outputs": [
    {
     "data": {
      "text/html": [
       "<div>\n",
       "<style scoped>\n",
       "    .dataframe tbody tr th:only-of-type {\n",
       "        vertical-align: middle;\n",
       "    }\n",
       "\n",
       "    .dataframe tbody tr th {\n",
       "        vertical-align: top;\n",
       "    }\n",
       "\n",
       "    .dataframe thead th {\n",
       "        text-align: right;\n",
       "    }\n",
       "</style>\n",
       "<table border=\"1\" class=\"dataframe\">\n",
       "  <thead>\n",
       "    <tr style=\"text-align: right;\">\n",
       "      <th></th>\n",
       "      <th>Name</th>\n",
       "      <th>Cost</th>\n",
       "    </tr>\n",
       "  </thead>\n",
       "  <tbody>\n",
       "    <tr>\n",
       "      <th>Store 1</th>\n",
       "      <td>Chris</td>\n",
       "      <td>22.5</td>\n",
       "    </tr>\n",
       "    <tr>\n",
       "      <th>Store 2</th>\n",
       "      <td>Kevyn</td>\n",
       "      <td>2.5</td>\n",
       "    </tr>\n",
       "    <tr>\n",
       "      <th>Store 3</th>\n",
       "      <td>Vinod</td>\n",
       "      <td>5.0</td>\n",
       "    </tr>\n",
       "  </tbody>\n",
       "</table>\n",
       "</div>"
      ],
      "text/plain": [
       "          Name  Cost\n",
       "Store 1  Chris  22.5\n",
       "Store 2  Kevyn   2.5\n",
       "Store 3  Vinod   5.0"
      ]
     },
     "execution_count": 21,
     "metadata": {},
     "output_type": "execute_result"
    }
   ],
   "source": [
    "df.loc[:, ['Name', 'Cost']]"
   ]
  },
  {
   "cell_type": "markdown",
   "metadata": {},
   "source": [
    "* <b>NOTE:</b> Avoid Query by <font color = 'red'>Chaining Selecting</font>\n",
    "<br>\n",
    "This will creating a copy of dataset, which will be quit inefficient."
   ]
  },
  {
   "cell_type": "code",
   "execution_count": 22,
   "metadata": {},
   "outputs": [
    {
     "data": {
      "text/plain": [
       "22.5"
      ]
     },
     "execution_count": 22,
     "metadata": {},
     "output_type": "execute_result"
    }
   ],
   "source": [
    "df.loc['Store 1']['Cost']"
   ]
  },
  {
   "cell_type": "markdown",
   "metadata": {},
   "source": [
    "### 2.2 Dropping & Adding Data from DataFrame"
   ]
  },
  {
   "cell_type": "markdown",
   "metadata": {},
   "source": [
    "* Dropping Rows"
   ]
  },
  {
   "cell_type": "code",
   "execution_count": 23,
   "metadata": {},
   "outputs": [
    {
     "data": {
      "text/html": [
       "<div>\n",
       "<style scoped>\n",
       "    .dataframe tbody tr th:only-of-type {\n",
       "        vertical-align: middle;\n",
       "    }\n",
       "\n",
       "    .dataframe tbody tr th {\n",
       "        vertical-align: top;\n",
       "    }\n",
       "\n",
       "    .dataframe thead th {\n",
       "        text-align: right;\n",
       "    }\n",
       "</style>\n",
       "<table border=\"1\" class=\"dataframe\">\n",
       "  <thead>\n",
       "    <tr style=\"text-align: right;\">\n",
       "      <th></th>\n",
       "      <th>Name</th>\n",
       "      <th>Item Purchased</th>\n",
       "      <th>Cost</th>\n",
       "    </tr>\n",
       "  </thead>\n",
       "  <tbody>\n",
       "    <tr>\n",
       "      <th>Store 2</th>\n",
       "      <td>Kevyn</td>\n",
       "      <td>Kitty Litter</td>\n",
       "      <td>2.5</td>\n",
       "    </tr>\n",
       "    <tr>\n",
       "      <th>Store 3</th>\n",
       "      <td>Vinod</td>\n",
       "      <td>Bird Seed</td>\n",
       "      <td>5.0</td>\n",
       "    </tr>\n",
       "  </tbody>\n",
       "</table>\n",
       "</div>"
      ],
      "text/plain": [
       "          Name Item Purchased  Cost\n",
       "Store 2  Kevyn   Kitty Litter   2.5\n",
       "Store 3  Vinod      Bird Seed   5.0"
      ]
     },
     "execution_count": 23,
     "metadata": {},
     "output_type": "execute_result"
    }
   ],
   "source": [
    "df.drop('Store 1')"
   ]
  },
  {
   "cell_type": "markdown",
   "metadata": {},
   "source": [
    "<b>NOTE:</b> The original dataset is untouched."
   ]
  },
  {
   "cell_type": "code",
   "execution_count": 24,
   "metadata": {},
   "outputs": [
    {
     "data": {
      "text/html": [
       "<div>\n",
       "<style scoped>\n",
       "    .dataframe tbody tr th:only-of-type {\n",
       "        vertical-align: middle;\n",
       "    }\n",
       "\n",
       "    .dataframe tbody tr th {\n",
       "        vertical-align: top;\n",
       "    }\n",
       "\n",
       "    .dataframe thead th {\n",
       "        text-align: right;\n",
       "    }\n",
       "</style>\n",
       "<table border=\"1\" class=\"dataframe\">\n",
       "  <thead>\n",
       "    <tr style=\"text-align: right;\">\n",
       "      <th></th>\n",
       "      <th>Name</th>\n",
       "      <th>Item Purchased</th>\n",
       "      <th>Cost</th>\n",
       "    </tr>\n",
       "  </thead>\n",
       "  <tbody>\n",
       "    <tr>\n",
       "      <th>Store 1</th>\n",
       "      <td>Chris</td>\n",
       "      <td>Dog Food</td>\n",
       "      <td>22.5</td>\n",
       "    </tr>\n",
       "    <tr>\n",
       "      <th>Store 2</th>\n",
       "      <td>Kevyn</td>\n",
       "      <td>Kitty Litter</td>\n",
       "      <td>2.5</td>\n",
       "    </tr>\n",
       "    <tr>\n",
       "      <th>Store 3</th>\n",
       "      <td>Vinod</td>\n",
       "      <td>Bird Seed</td>\n",
       "      <td>5.0</td>\n",
       "    </tr>\n",
       "  </tbody>\n",
       "</table>\n",
       "</div>"
      ],
      "text/plain": [
       "          Name Item Purchased  Cost\n",
       "Store 1  Chris       Dog Food  22.5\n",
       "Store 2  Kevyn   Kitty Litter   2.5\n",
       "Store 3  Vinod      Bird Seed   5.0"
      ]
     },
     "execution_count": 24,
     "metadata": {},
     "output_type": "execute_result"
    }
   ],
   "source": [
    "df"
   ]
  },
  {
   "cell_type": "markdown",
   "metadata": {},
   "source": [
    "* Dropping Columns"
   ]
  },
  {
   "cell_type": "code",
   "execution_count": 25,
   "metadata": {},
   "outputs": [
    {
     "data": {
      "text/html": [
       "<div>\n",
       "<style scoped>\n",
       "    .dataframe tbody tr th:only-of-type {\n",
       "        vertical-align: middle;\n",
       "    }\n",
       "\n",
       "    .dataframe tbody tr th {\n",
       "        vertical-align: top;\n",
       "    }\n",
       "\n",
       "    .dataframe thead th {\n",
       "        text-align: right;\n",
       "    }\n",
       "</style>\n",
       "<table border=\"1\" class=\"dataframe\">\n",
       "  <thead>\n",
       "    <tr style=\"text-align: right;\">\n",
       "      <th></th>\n",
       "      <th>Item Purchased</th>\n",
       "      <th>Cost</th>\n",
       "    </tr>\n",
       "  </thead>\n",
       "  <tbody>\n",
       "    <tr>\n",
       "      <th>Store 1</th>\n",
       "      <td>Dog Food</td>\n",
       "      <td>22.5</td>\n",
       "    </tr>\n",
       "    <tr>\n",
       "      <th>Store 2</th>\n",
       "      <td>Kitty Litter</td>\n",
       "      <td>2.5</td>\n",
       "    </tr>\n",
       "    <tr>\n",
       "      <th>Store 3</th>\n",
       "      <td>Bird Seed</td>\n",
       "      <td>5.0</td>\n",
       "    </tr>\n",
       "  </tbody>\n",
       "</table>\n",
       "</div>"
      ],
      "text/plain": [
       "        Item Purchased  Cost\n",
       "Store 1       Dog Food  22.5\n",
       "Store 2   Kitty Litter   2.5\n",
       "Store 3      Bird Seed   5.0"
      ]
     },
     "execution_count": 25,
     "metadata": {},
     "output_type": "execute_result"
    }
   ],
   "source": [
    "copy_df = df.copy()\n",
    "del copy_df['Name']\n",
    "copy_df"
   ]
  },
  {
   "cell_type": "markdown",
   "metadata": {},
   "source": [
    "* Adding Columns"
   ]
  },
  {
   "cell_type": "code",
   "execution_count": 26,
   "metadata": {},
   "outputs": [
    {
     "data": {
      "text/html": [
       "<div>\n",
       "<style scoped>\n",
       "    .dataframe tbody tr th:only-of-type {\n",
       "        vertical-align: middle;\n",
       "    }\n",
       "\n",
       "    .dataframe tbody tr th {\n",
       "        vertical-align: top;\n",
       "    }\n",
       "\n",
       "    .dataframe thead th {\n",
       "        text-align: right;\n",
       "    }\n",
       "</style>\n",
       "<table border=\"1\" class=\"dataframe\">\n",
       "  <thead>\n",
       "    <tr style=\"text-align: right;\">\n",
       "      <th></th>\n",
       "      <th>Name</th>\n",
       "      <th>Item Purchased</th>\n",
       "      <th>Cost</th>\n",
       "      <th>Location</th>\n",
       "    </tr>\n",
       "  </thead>\n",
       "  <tbody>\n",
       "    <tr>\n",
       "      <th>Store 1</th>\n",
       "      <td>Chris</td>\n",
       "      <td>Dog Food</td>\n",
       "      <td>22.5</td>\n",
       "      <td>None</td>\n",
       "    </tr>\n",
       "    <tr>\n",
       "      <th>Store 2</th>\n",
       "      <td>Kevyn</td>\n",
       "      <td>Kitty Litter</td>\n",
       "      <td>2.5</td>\n",
       "      <td>None</td>\n",
       "    </tr>\n",
       "    <tr>\n",
       "      <th>Store 3</th>\n",
       "      <td>Vinod</td>\n",
       "      <td>Bird Seed</td>\n",
       "      <td>5.0</td>\n",
       "      <td>None</td>\n",
       "    </tr>\n",
       "  </tbody>\n",
       "</table>\n",
       "</div>"
      ],
      "text/plain": [
       "          Name Item Purchased  Cost Location\n",
       "Store 1  Chris       Dog Food  22.5     None\n",
       "Store 2  Kevyn   Kitty Litter   2.5     None\n",
       "Store 3  Vinod      Bird Seed   5.0     None"
      ]
     },
     "execution_count": 26,
     "metadata": {},
     "output_type": "execute_result"
    }
   ],
   "source": [
    "df['Location'] = None\n",
    "df"
   ]
  },
  {
   "cell_type": "markdown",
   "metadata": {},
   "source": [
    "## 3. DataFrame Indexing and Loading"
   ]
  },
  {
   "cell_type": "markdown",
   "metadata": {},
   "source": [
    "<b>NOTE:</b> <font color = 'red'>If you want to explicitly use a <b>copy</b>, then you should consider calling the <b>copy method</b> on the DataFrame for it first.</font>"
   ]
  },
  {
   "cell_type": "markdown",
   "metadata": {},
   "source": [
    "### 3.1 Creating DataFrame from .csv files."
   ]
  },
  {
   "cell_type": "code",
   "execution_count": 27,
   "metadata": {},
   "outputs": [
    {
     "name": "stdout",
     "output_type": "stream",
     "text": [
      "D:\\Data Science\\GitHub\\Python Learning\\Python-for-Data-Science\\Data Files\\Python Learning\n"
     ]
    },
    {
     "data": {
      "text/html": [
       "<div>\n",
       "<style scoped>\n",
       "    .dataframe tbody tr th:only-of-type {\n",
       "        vertical-align: middle;\n",
       "    }\n",
       "\n",
       "    .dataframe tbody tr th {\n",
       "        vertical-align: top;\n",
       "    }\n",
       "\n",
       "    .dataframe thead th {\n",
       "        text-align: right;\n",
       "    }\n",
       "</style>\n",
       "<table border=\"1\" class=\"dataframe\">\n",
       "  <thead>\n",
       "    <tr style=\"text-align: right;\">\n",
       "      <th></th>\n",
       "      <th>TRXN_MONTH</th>\n",
       "      <th>TRXN_DT</th>\n",
       "      <th>TRXN_AMT</th>\n",
       "      <th>MERCHT_NAME</th>\n",
       "      <th>CATG</th>\n",
       "    </tr>\n",
       "  </thead>\n",
       "  <tbody>\n",
       "    <tr>\n",
       "      <th>0</th>\n",
       "      <td>Mar-19</td>\n",
       "      <td>01/03/2019</td>\n",
       "      <td>61.20</td>\n",
       "      <td>VIRGIN ACTIVE</td>\n",
       "      <td>Entertainment</td>\n",
       "    </tr>\n",
       "    <tr>\n",
       "      <th>1</th>\n",
       "      <td>Mar-19</td>\n",
       "      <td>04/03/2019</td>\n",
       "      <td>1.31</td>\n",
       "      <td>LOON FUNG LIMITED</td>\n",
       "      <td>Glossary</td>\n",
       "    </tr>\n",
       "    <tr>\n",
       "      <th>2</th>\n",
       "      <td>Mar-19</td>\n",
       "      <td>04/03/2019</td>\n",
       "      <td>16.89</td>\n",
       "      <td>LOON FUNG LIMITED</td>\n",
       "      <td>Glossary</td>\n",
       "    </tr>\n",
       "    <tr>\n",
       "      <th>3</th>\n",
       "      <td>Mar-19</td>\n",
       "      <td>04/03/2019</td>\n",
       "      <td>20.00</td>\n",
       "      <td>LNK CAPITAL ONE</td>\n",
       "      <td>Other</td>\n",
       "    </tr>\n",
       "    <tr>\n",
       "      <th>4</th>\n",
       "      <td>Mar-19</td>\n",
       "      <td>05/03/2019</td>\n",
       "      <td>2.85</td>\n",
       "      <td>SAINSBURY'S SPRMRKTS LT NOTTINGHAM</td>\n",
       "      <td>Glossary</td>\n",
       "    </tr>\n",
       "  </tbody>\n",
       "</table>\n",
       "</div>"
      ],
      "text/plain": [
       "  TRXN_MONTH     TRXN_DT  TRXN_AMT                         MERCHT_NAME  \\\n",
       "0     Mar-19  01/03/2019     61.20                       VIRGIN ACTIVE   \n",
       "1     Mar-19  04/03/2019      1.31                   LOON FUNG LIMITED   \n",
       "2     Mar-19  04/03/2019     16.89                   LOON FUNG LIMITED   \n",
       "3     Mar-19  04/03/2019     20.00                     LNK CAPITAL ONE   \n",
       "4     Mar-19  05/03/2019      2.85  SAINSBURY'S SPRMRKTS LT NOTTINGHAM   \n",
       "\n",
       "            CATG  \n",
       "0  Entertainment  \n",
       "1       Glossary  \n",
       "2       Glossary  \n",
       "3          Other  \n",
       "4       Glossary  "
      ]
     },
     "execution_count": 27,
     "metadata": {},
     "output_type": "execute_result"
    }
   ],
   "source": [
    "%cd D:\\Data Science\\GitHub\\Python Learning\\Python-for-Data-Science\\Data Files\\Python Learning\n",
    "\n",
    "df = pd.read_csv('expense_report.csv', skiprows = 0)    \n",
    "df.head()"
   ]
  },
  {
   "cell_type": "markdown",
   "metadata": {},
   "source": [
    "* Show Names of All Columns in the DataFrame."
   ]
  },
  {
   "cell_type": "code",
   "execution_count": 28,
   "metadata": {},
   "outputs": [
    {
     "data": {
      "text/plain": [
       "Index(['TRXN_MONTH', 'TRXN_DT', 'TRXN_AMT', 'MERCHT_NAME', 'CATG'], dtype='object')"
      ]
     },
     "execution_count": 28,
     "metadata": {},
     "output_type": "execute_result"
    }
   ],
   "source": [
    "df.columns"
   ]
  },
  {
   "cell_type": "markdown",
   "metadata": {},
   "source": [
    "## 4. Querying a DataFrame"
   ]
  },
  {
   "cell_type": "markdown",
   "metadata": {},
   "source": [
    "### 4.1 Querying DataFrame by Boolean Masking"
   ]
  },
  {
   "cell_type": "markdown",
   "metadata": {},
   "source": [
    "* <b>Step 1.</b> creating Boolean masking array."
   ]
  },
  {
   "cell_type": "code",
   "execution_count": 29,
   "metadata": {},
   "outputs": [
    {
     "data": {
      "text/plain": [
       "0        True\n",
       "1       False\n",
       "2        True\n",
       "3        True\n",
       "4       False\n",
       "5        True\n",
       "6        True\n",
       "7        True\n",
       "8        True\n",
       "9        True\n",
       "10       True\n",
       "11      False\n",
       "12       True\n",
       "13       True\n",
       "14       True\n",
       "15       True\n",
       "16       True\n",
       "17       True\n",
       "18       True\n",
       "19       True\n",
       "20       True\n",
       "21      False\n",
       "22       True\n",
       "23       True\n",
       "24      False\n",
       "25       True\n",
       "26       True\n",
       "27      False\n",
       "28      False\n",
       "29      False\n",
       "        ...  \n",
       "1177     True\n",
       "1178    False\n",
       "1179    False\n",
       "1180    False\n",
       "1181     True\n",
       "1182    False\n",
       "1183    False\n",
       "1184    False\n",
       "1185     True\n",
       "1186    False\n",
       "1187     True\n",
       "1188    False\n",
       "1189     True\n",
       "1190     True\n",
       "1191     True\n",
       "1192     True\n",
       "1193     True\n",
       "1194     True\n",
       "1195     True\n",
       "1196     True\n",
       "1197     True\n",
       "1198     True\n",
       "1199     True\n",
       "1200     True\n",
       "1201     True\n",
       "1202     True\n",
       "1203     True\n",
       "1204     True\n",
       "1205     True\n",
       "1206     True\n",
       "Name: TRXN_AMT, Length: 1207, dtype: bool"
      ]
     },
     "execution_count": 29,
     "metadata": {},
     "output_type": "execute_result"
    }
   ],
   "source": [
    "df['TRXN_AMT'] > 5"
   ]
  },
  {
   "cell_type": "markdown",
   "metadata": {},
   "source": [
    "* <b>Step 2.</b> overlay the masking on the DataFrame by <b>where</b> function."
   ]
  },
  {
   "cell_type": "code",
   "execution_count": 30,
   "metadata": {},
   "outputs": [
    {
     "data": {
      "text/html": [
       "<div>\n",
       "<style scoped>\n",
       "    .dataframe tbody tr th:only-of-type {\n",
       "        vertical-align: middle;\n",
       "    }\n",
       "\n",
       "    .dataframe tbody tr th {\n",
       "        vertical-align: top;\n",
       "    }\n",
       "\n",
       "    .dataframe thead th {\n",
       "        text-align: right;\n",
       "    }\n",
       "</style>\n",
       "<table border=\"1\" class=\"dataframe\">\n",
       "  <thead>\n",
       "    <tr style=\"text-align: right;\">\n",
       "      <th></th>\n",
       "      <th>TRXN_MONTH</th>\n",
       "      <th>TRXN_DT</th>\n",
       "      <th>TRXN_AMT</th>\n",
       "      <th>MERCHT_NAME</th>\n",
       "      <th>CATG</th>\n",
       "    </tr>\n",
       "  </thead>\n",
       "  <tbody>\n",
       "    <tr>\n",
       "      <th>0</th>\n",
       "      <td>Mar-19</td>\n",
       "      <td>01/03/2019</td>\n",
       "      <td>61.20</td>\n",
       "      <td>VIRGIN ACTIVE</td>\n",
       "      <td>Entertainment</td>\n",
       "    </tr>\n",
       "    <tr>\n",
       "      <th>1</th>\n",
       "      <td>NaN</td>\n",
       "      <td>NaN</td>\n",
       "      <td>NaN</td>\n",
       "      <td>NaN</td>\n",
       "      <td>NaN</td>\n",
       "    </tr>\n",
       "    <tr>\n",
       "      <th>2</th>\n",
       "      <td>Mar-19</td>\n",
       "      <td>04/03/2019</td>\n",
       "      <td>16.89</td>\n",
       "      <td>LOON FUNG LIMITED</td>\n",
       "      <td>Glossary</td>\n",
       "    </tr>\n",
       "    <tr>\n",
       "      <th>3</th>\n",
       "      <td>Mar-19</td>\n",
       "      <td>04/03/2019</td>\n",
       "      <td>20.00</td>\n",
       "      <td>LNK CAPITAL ONE</td>\n",
       "      <td>Other</td>\n",
       "    </tr>\n",
       "    <tr>\n",
       "      <th>4</th>\n",
       "      <td>NaN</td>\n",
       "      <td>NaN</td>\n",
       "      <td>NaN</td>\n",
       "      <td>NaN</td>\n",
       "      <td>NaN</td>\n",
       "    </tr>\n",
       "  </tbody>\n",
       "</table>\n",
       "</div>"
      ],
      "text/plain": [
       "  TRXN_MONTH     TRXN_DT  TRXN_AMT        MERCHT_NAME           CATG\n",
       "0     Mar-19  01/03/2019     61.20      VIRGIN ACTIVE  Entertainment\n",
       "1        NaN         NaN       NaN                NaN            NaN\n",
       "2     Mar-19  04/03/2019     16.89  LOON FUNG LIMITED       Glossary\n",
       "3     Mar-19  04/03/2019     20.00    LNK CAPITAL ONE          Other\n",
       "4        NaN         NaN       NaN                NaN            NaN"
      ]
     },
     "execution_count": 30,
     "metadata": {},
     "output_type": "execute_result"
    }
   ],
   "source": [
    "df_500 = df.where(df['TRXN_AMT'] > 5)\n",
    "df_500.head()"
   ]
  },
  {
   "cell_type": "markdown",
   "metadata": {},
   "source": [
    "<b>NOTE:</b> rows that do not match the condition will give <font color = 'red'>NaN</font> values.\n",
    "<br>\n",
    "To drop those <b>NaN</b> rows."
   ]
  },
  {
   "cell_type": "code",
   "execution_count": 31,
   "metadata": {},
   "outputs": [
    {
     "data": {
      "text/html": [
       "<div>\n",
       "<style scoped>\n",
       "    .dataframe tbody tr th:only-of-type {\n",
       "        vertical-align: middle;\n",
       "    }\n",
       "\n",
       "    .dataframe tbody tr th {\n",
       "        vertical-align: top;\n",
       "    }\n",
       "\n",
       "    .dataframe thead th {\n",
       "        text-align: right;\n",
       "    }\n",
       "</style>\n",
       "<table border=\"1\" class=\"dataframe\">\n",
       "  <thead>\n",
       "    <tr style=\"text-align: right;\">\n",
       "      <th></th>\n",
       "      <th>TRXN_MONTH</th>\n",
       "      <th>TRXN_DT</th>\n",
       "      <th>TRXN_AMT</th>\n",
       "      <th>MERCHT_NAME</th>\n",
       "      <th>CATG</th>\n",
       "    </tr>\n",
       "  </thead>\n",
       "  <tbody>\n",
       "    <tr>\n",
       "      <th>0</th>\n",
       "      <td>Mar-19</td>\n",
       "      <td>01/03/2019</td>\n",
       "      <td>61.20</td>\n",
       "      <td>VIRGIN ACTIVE</td>\n",
       "      <td>Entertainment</td>\n",
       "    </tr>\n",
       "    <tr>\n",
       "      <th>2</th>\n",
       "      <td>Mar-19</td>\n",
       "      <td>04/03/2019</td>\n",
       "      <td>16.89</td>\n",
       "      <td>LOON FUNG LIMITED</td>\n",
       "      <td>Glossary</td>\n",
       "    </tr>\n",
       "    <tr>\n",
       "      <th>3</th>\n",
       "      <td>Mar-19</td>\n",
       "      <td>04/03/2019</td>\n",
       "      <td>20.00</td>\n",
       "      <td>LNK CAPITAL ONE</td>\n",
       "      <td>Other</td>\n",
       "    </tr>\n",
       "    <tr>\n",
       "      <th>5</th>\n",
       "      <td>Mar-19</td>\n",
       "      <td>06/03/2019</td>\n",
       "      <td>6.49</td>\n",
       "      <td>TESCO STORE 5660 5660TE WELWYN GARDEN C</td>\n",
       "      <td>Glossary</td>\n",
       "    </tr>\n",
       "    <tr>\n",
       "      <th>6</th>\n",
       "      <td>Mar-19</td>\n",
       "      <td>07/03/2019</td>\n",
       "      <td>35.40</td>\n",
       "      <td>SHANGHAI SHANGHAI SHANG NOTTINGHAM</td>\n",
       "      <td>Eating Out</td>\n",
       "    </tr>\n",
       "  </tbody>\n",
       "</table>\n",
       "</div>"
      ],
      "text/plain": [
       "  TRXN_MONTH     TRXN_DT  TRXN_AMT                              MERCHT_NAME  \\\n",
       "0     Mar-19  01/03/2019     61.20                            VIRGIN ACTIVE   \n",
       "2     Mar-19  04/03/2019     16.89                        LOON FUNG LIMITED   \n",
       "3     Mar-19  04/03/2019     20.00                          LNK CAPITAL ONE   \n",
       "5     Mar-19  06/03/2019      6.49  TESCO STORE 5660 5660TE WELWYN GARDEN C   \n",
       "6     Mar-19  07/03/2019     35.40       SHANGHAI SHANGHAI SHANG NOTTINGHAM   \n",
       "\n",
       "            CATG  \n",
       "0  Entertainment  \n",
       "2       Glossary  \n",
       "3          Other  \n",
       "5       Glossary  \n",
       "6     Eating Out  "
      ]
     },
     "execution_count": 31,
     "metadata": {},
     "output_type": "execute_result"
    }
   ],
   "source": [
    "df_500 = df_500.dropna()\n",
    "df_500.head()"
   ]
  },
  {
   "cell_type": "markdown",
   "metadata": {},
   "source": [
    "* <b>However</b>, there is a quicker way to do that."
   ]
  },
  {
   "cell_type": "code",
   "execution_count": 32,
   "metadata": {},
   "outputs": [
    {
     "data": {
      "text/html": [
       "<div>\n",
       "<style scoped>\n",
       "    .dataframe tbody tr th:only-of-type {\n",
       "        vertical-align: middle;\n",
       "    }\n",
       "\n",
       "    .dataframe tbody tr th {\n",
       "        vertical-align: top;\n",
       "    }\n",
       "\n",
       "    .dataframe thead th {\n",
       "        text-align: right;\n",
       "    }\n",
       "</style>\n",
       "<table border=\"1\" class=\"dataframe\">\n",
       "  <thead>\n",
       "    <tr style=\"text-align: right;\">\n",
       "      <th></th>\n",
       "      <th>TRXN_MONTH</th>\n",
       "      <th>TRXN_DT</th>\n",
       "      <th>TRXN_AMT</th>\n",
       "      <th>MERCHT_NAME</th>\n",
       "      <th>CATG</th>\n",
       "    </tr>\n",
       "  </thead>\n",
       "  <tbody>\n",
       "    <tr>\n",
       "      <th>0</th>\n",
       "      <td>Mar-19</td>\n",
       "      <td>01/03/2019</td>\n",
       "      <td>61.20</td>\n",
       "      <td>VIRGIN ACTIVE</td>\n",
       "      <td>Entertainment</td>\n",
       "    </tr>\n",
       "    <tr>\n",
       "      <th>2</th>\n",
       "      <td>Mar-19</td>\n",
       "      <td>04/03/2019</td>\n",
       "      <td>16.89</td>\n",
       "      <td>LOON FUNG LIMITED</td>\n",
       "      <td>Glossary</td>\n",
       "    </tr>\n",
       "    <tr>\n",
       "      <th>3</th>\n",
       "      <td>Mar-19</td>\n",
       "      <td>04/03/2019</td>\n",
       "      <td>20.00</td>\n",
       "      <td>LNK CAPITAL ONE</td>\n",
       "      <td>Other</td>\n",
       "    </tr>\n",
       "    <tr>\n",
       "      <th>5</th>\n",
       "      <td>Mar-19</td>\n",
       "      <td>06/03/2019</td>\n",
       "      <td>6.49</td>\n",
       "      <td>TESCO STORE 5660 5660TE WELWYN GARDEN C</td>\n",
       "      <td>Glossary</td>\n",
       "    </tr>\n",
       "    <tr>\n",
       "      <th>6</th>\n",
       "      <td>Mar-19</td>\n",
       "      <td>07/03/2019</td>\n",
       "      <td>35.40</td>\n",
       "      <td>SHANGHAI SHANGHAI SHANG NOTTINGHAM</td>\n",
       "      <td>Eating Out</td>\n",
       "    </tr>\n",
       "  </tbody>\n",
       "</table>\n",
       "</div>"
      ],
      "text/plain": [
       "  TRXN_MONTH     TRXN_DT  TRXN_AMT                              MERCHT_NAME  \\\n",
       "0     Mar-19  01/03/2019     61.20                            VIRGIN ACTIVE   \n",
       "2     Mar-19  04/03/2019     16.89                        LOON FUNG LIMITED   \n",
       "3     Mar-19  04/03/2019     20.00                          LNK CAPITAL ONE   \n",
       "5     Mar-19  06/03/2019      6.49  TESCO STORE 5660 5660TE WELWYN GARDEN C   \n",
       "6     Mar-19  07/03/2019     35.40       SHANGHAI SHANGHAI SHANG NOTTINGHAM   \n",
       "\n",
       "            CATG  \n",
       "0  Entertainment  \n",
       "2       Glossary  \n",
       "3          Other  \n",
       "5       Glossary  \n",
       "6     Eating Out  "
      ]
     },
     "execution_count": 32,
     "metadata": {},
     "output_type": "execute_result"
    }
   ],
   "source": [
    "df_500 = df[df['TRXN_AMT'] > 5]\n",
    "df_500.head()"
   ]
  },
  {
   "cell_type": "markdown",
   "metadata": {},
   "source": [
    "## 5. Indexing DataFrame"
   ]
  },
  {
   "cell_type": "markdown",
   "metadata": {},
   "source": [
    "### 5.1 Setting Index of DataFrame"
   ]
  },
  {
   "cell_type": "markdown",
   "metadata": {},
   "source": [
    "* Re-indexing DataFrame"
   ]
  },
  {
   "cell_type": "code",
   "execution_count": 39,
   "metadata": {},
   "outputs": [
    {
     "data": {
      "text/html": [
       "<div>\n",
       "<style scoped>\n",
       "    .dataframe tbody tr th:only-of-type {\n",
       "        vertical-align: middle;\n",
       "    }\n",
       "\n",
       "    .dataframe tbody tr th {\n",
       "        vertical-align: top;\n",
       "    }\n",
       "\n",
       "    .dataframe thead th {\n",
       "        text-align: right;\n",
       "    }\n",
       "</style>\n",
       "<table border=\"1\" class=\"dataframe\">\n",
       "  <thead>\n",
       "    <tr style=\"text-align: right;\">\n",
       "      <th></th>\n",
       "      <th>level_0</th>\n",
       "      <th>index</th>\n",
       "      <th>TRXN_MONTH</th>\n",
       "      <th>TRXN_DT</th>\n",
       "      <th>TRXN_AMT</th>\n",
       "      <th>MERCHT_NAME</th>\n",
       "    </tr>\n",
       "    <tr>\n",
       "      <th>CATG</th>\n",
       "      <th></th>\n",
       "      <th></th>\n",
       "      <th></th>\n",
       "      <th></th>\n",
       "      <th></th>\n",
       "      <th></th>\n",
       "    </tr>\n",
       "  </thead>\n",
       "  <tbody>\n",
       "    <tr>\n",
       "      <th>Entertainment</th>\n",
       "      <td>0</td>\n",
       "      <td>0</td>\n",
       "      <td>Mar-19</td>\n",
       "      <td>01/03/2019</td>\n",
       "      <td>61.20</td>\n",
       "      <td>VIRGIN ACTIVE</td>\n",
       "    </tr>\n",
       "    <tr>\n",
       "      <th>Glossary</th>\n",
       "      <td>1</td>\n",
       "      <td>1</td>\n",
       "      <td>Mar-19</td>\n",
       "      <td>04/03/2019</td>\n",
       "      <td>1.31</td>\n",
       "      <td>LOON FUNG LIMITED</td>\n",
       "    </tr>\n",
       "    <tr>\n",
       "      <th>Glossary</th>\n",
       "      <td>2</td>\n",
       "      <td>2</td>\n",
       "      <td>Mar-19</td>\n",
       "      <td>04/03/2019</td>\n",
       "      <td>16.89</td>\n",
       "      <td>LOON FUNG LIMITED</td>\n",
       "    </tr>\n",
       "    <tr>\n",
       "      <th>Other</th>\n",
       "      <td>3</td>\n",
       "      <td>3</td>\n",
       "      <td>Mar-19</td>\n",
       "      <td>04/03/2019</td>\n",
       "      <td>20.00</td>\n",
       "      <td>LNK CAPITAL ONE</td>\n",
       "    </tr>\n",
       "    <tr>\n",
       "      <th>Glossary</th>\n",
       "      <td>4</td>\n",
       "      <td>4</td>\n",
       "      <td>Mar-19</td>\n",
       "      <td>05/03/2019</td>\n",
       "      <td>2.85</td>\n",
       "      <td>SAINSBURY'S SPRMRKTS LT NOTTINGHAM</td>\n",
       "    </tr>\n",
       "  </tbody>\n",
       "</table>\n",
       "</div>"
      ],
      "text/plain": [
       "               level_0  index TRXN_MONTH     TRXN_DT  TRXN_AMT  \\\n",
       "CATG                                                             \n",
       "Entertainment        0      0     Mar-19  01/03/2019     61.20   \n",
       "Glossary             1      1     Mar-19  04/03/2019      1.31   \n",
       "Glossary             2      2     Mar-19  04/03/2019     16.89   \n",
       "Other                3      3     Mar-19  04/03/2019     20.00   \n",
       "Glossary             4      4     Mar-19  05/03/2019      2.85   \n",
       "\n",
       "                                      MERCHT_NAME  \n",
       "CATG                                               \n",
       "Entertainment                       VIRGIN ACTIVE  \n",
       "Glossary                        LOON FUNG LIMITED  \n",
       "Glossary                        LOON FUNG LIMITED  \n",
       "Other                             LNK CAPITAL ONE  \n",
       "Glossary       SAINSBURY'S SPRMRKTS LT NOTTINGHAM  "
      ]
     },
     "execution_count": 39,
     "metadata": {},
     "output_type": "execute_result"
    }
   ],
   "source": [
    "df = df.set_index('CATG')\n",
    "df.head()"
   ]
  },
  {
   "cell_type": "markdown",
   "metadata": {},
   "source": [
    "* Reset Index by Number Series"
   ]
  },
  {
   "cell_type": "code",
   "execution_count": 40,
   "metadata": {},
   "outputs": [
    {
     "data": {
      "text/html": [
       "<div>\n",
       "<style scoped>\n",
       "    .dataframe tbody tr th:only-of-type {\n",
       "        vertical-align: middle;\n",
       "    }\n",
       "\n",
       "    .dataframe tbody tr th {\n",
       "        vertical-align: top;\n",
       "    }\n",
       "\n",
       "    .dataframe thead th {\n",
       "        text-align: right;\n",
       "    }\n",
       "</style>\n",
       "<table border=\"1\" class=\"dataframe\">\n",
       "  <thead>\n",
       "    <tr style=\"text-align: right;\">\n",
       "      <th></th>\n",
       "      <th>CATG</th>\n",
       "      <th>level_0</th>\n",
       "      <th>index</th>\n",
       "      <th>TRXN_MONTH</th>\n",
       "      <th>TRXN_DT</th>\n",
       "      <th>TRXN_AMT</th>\n",
       "      <th>MERCHT_NAME</th>\n",
       "    </tr>\n",
       "  </thead>\n",
       "  <tbody>\n",
       "    <tr>\n",
       "      <th>0</th>\n",
       "      <td>Entertainment</td>\n",
       "      <td>0</td>\n",
       "      <td>0</td>\n",
       "      <td>Mar-19</td>\n",
       "      <td>01/03/2019</td>\n",
       "      <td>61.20</td>\n",
       "      <td>VIRGIN ACTIVE</td>\n",
       "    </tr>\n",
       "    <tr>\n",
       "      <th>1</th>\n",
       "      <td>Glossary</td>\n",
       "      <td>1</td>\n",
       "      <td>1</td>\n",
       "      <td>Mar-19</td>\n",
       "      <td>04/03/2019</td>\n",
       "      <td>1.31</td>\n",
       "      <td>LOON FUNG LIMITED</td>\n",
       "    </tr>\n",
       "    <tr>\n",
       "      <th>2</th>\n",
       "      <td>Glossary</td>\n",
       "      <td>2</td>\n",
       "      <td>2</td>\n",
       "      <td>Mar-19</td>\n",
       "      <td>04/03/2019</td>\n",
       "      <td>16.89</td>\n",
       "      <td>LOON FUNG LIMITED</td>\n",
       "    </tr>\n",
       "    <tr>\n",
       "      <th>3</th>\n",
       "      <td>Other</td>\n",
       "      <td>3</td>\n",
       "      <td>3</td>\n",
       "      <td>Mar-19</td>\n",
       "      <td>04/03/2019</td>\n",
       "      <td>20.00</td>\n",
       "      <td>LNK CAPITAL ONE</td>\n",
       "    </tr>\n",
       "    <tr>\n",
       "      <th>4</th>\n",
       "      <td>Glossary</td>\n",
       "      <td>4</td>\n",
       "      <td>4</td>\n",
       "      <td>Mar-19</td>\n",
       "      <td>05/03/2019</td>\n",
       "      <td>2.85</td>\n",
       "      <td>SAINSBURY'S SPRMRKTS LT NOTTINGHAM</td>\n",
       "    </tr>\n",
       "  </tbody>\n",
       "</table>\n",
       "</div>"
      ],
      "text/plain": [
       "            CATG  level_0  index TRXN_MONTH     TRXN_DT  TRXN_AMT  \\\n",
       "0  Entertainment        0      0     Mar-19  01/03/2019     61.20   \n",
       "1       Glossary        1      1     Mar-19  04/03/2019      1.31   \n",
       "2       Glossary        2      2     Mar-19  04/03/2019     16.89   \n",
       "3          Other        3      3     Mar-19  04/03/2019     20.00   \n",
       "4       Glossary        4      4     Mar-19  05/03/2019      2.85   \n",
       "\n",
       "                          MERCHT_NAME  \n",
       "0                       VIRGIN ACTIVE  \n",
       "1                   LOON FUNG LIMITED  \n",
       "2                   LOON FUNG LIMITED  \n",
       "3                     LNK CAPITAL ONE  \n",
       "4  SAINSBURY'S SPRMRKTS LT NOTTINGHAM  "
      ]
     },
     "execution_count": 40,
     "metadata": {},
     "output_type": "execute_result"
    }
   ],
   "source": [
    "df = df.reset_index()\n",
    "df.head()\n"
   ]
  },
  {
   "cell_type": "markdown",
   "metadata": {},
   "source": [
    "### 5.2 Multi-level Index in DataFrame"
   ]
  },
  {
   "cell_type": "markdown",
   "metadata": {},
   "source": [
    "* Changing the DataFrame to be Multi-level Indexed"
   ]
  },
  {
   "cell_type": "code",
   "execution_count": 105,
   "metadata": {},
   "outputs": [
    {
     "data": {
      "text/html": [
       "<div>\n",
       "<style scoped>\n",
       "    .dataframe tbody tr th:only-of-type {\n",
       "        vertical-align: middle;\n",
       "    }\n",
       "\n",
       "    .dataframe tbody tr th {\n",
       "        vertical-align: top;\n",
       "    }\n",
       "\n",
       "    .dataframe thead th {\n",
       "        text-align: right;\n",
       "    }\n",
       "</style>\n",
       "<table border=\"1\" class=\"dataframe\">\n",
       "  <thead>\n",
       "    <tr style=\"text-align: right;\">\n",
       "      <th></th>\n",
       "      <th>CATG</th>\n",
       "      <th>TRXN_MONTH</th>\n",
       "      <th>TRXN_DT</th>\n",
       "      <th>TRXN_AMT</th>\n",
       "      <th>MERCHT_NAME</th>\n",
       "    </tr>\n",
       "  </thead>\n",
       "  <tbody>\n",
       "    <tr>\n",
       "      <th>807</th>\n",
       "      <td>Transport</td>\n",
       "      <td>Oct-19</td>\n",
       "      <td>01/10/2019</td>\n",
       "      <td>5.30</td>\n",
       "      <td>TFL TRAVEL CHARGE TFL.GOV.UK/CP</td>\n",
       "    </tr>\n",
       "    <tr>\n",
       "      <th>808</th>\n",
       "      <td>Transport</td>\n",
       "      <td>Oct-19</td>\n",
       "      <td>01/10/2019</td>\n",
       "      <td>2.90</td>\n",
       "      <td>TFL TRAVEL CHARGE TFL.GOV.UK/CP</td>\n",
       "    </tr>\n",
       "    <tr>\n",
       "      <th>809</th>\n",
       "      <td>Glossary</td>\n",
       "      <td>Oct-19</td>\n",
       "      <td>01/10/2019</td>\n",
       "      <td>2.50</td>\n",
       "      <td>WAITROSE CONVENIENCE NOTTINGHAM</td>\n",
       "    </tr>\n",
       "    <tr>\n",
       "      <th>810</th>\n",
       "      <td>Eating Out</td>\n",
       "      <td>Oct-19</td>\n",
       "      <td>01/10/2019</td>\n",
       "      <td>6.55</td>\n",
       "      <td>STARBUCKS TESCO LONDON</td>\n",
       "    </tr>\n",
       "    <tr>\n",
       "      <th>811</th>\n",
       "      <td>Transport</td>\n",
       "      <td>Oct-19</td>\n",
       "      <td>01/10/2019</td>\n",
       "      <td>5.70</td>\n",
       "      <td>TFL TRAVEL CHARGE TFL.GOV.UK/CP</td>\n",
       "    </tr>\n",
       "  </tbody>\n",
       "</table>\n",
       "</div>"
      ],
      "text/plain": [
       "           CATG TRXN_MONTH     TRXN_DT  TRXN_AMT  \\\n",
       "807   Transport     Oct-19  01/10/2019      5.30   \n",
       "808   Transport     Oct-19  01/10/2019      2.90   \n",
       "809    Glossary     Oct-19  01/10/2019      2.50   \n",
       "810  Eating Out     Oct-19  01/10/2019      6.55   \n",
       "811   Transport     Oct-19  01/10/2019      5.70   \n",
       "\n",
       "                         MERCHT_NAME  \n",
       "807  TFL TRAVEL CHARGE TFL.GOV.UK/CP  \n",
       "808  TFL TRAVEL CHARGE TFL.GOV.UK/CP  \n",
       "809  WAITROSE CONVENIENCE NOTTINGHAM  \n",
       "810           STARBUCKS TESCO LONDON  \n",
       "811  TFL TRAVEL CHARGE TFL.GOV.UK/CP  "
      ]
     },
     "execution_count": 105,
     "metadata": {},
     "output_type": "execute_result"
    }
   ],
   "source": [
    "df['TRXN_MONTH'].unique()\n",
    "df = df[df['TRXN_MONTH'] == 'Oct-19']\n",
    "df.head()"
   ]
  },
  {
   "cell_type": "code",
   "execution_count": 106,
   "metadata": {},
   "outputs": [
    {
     "data": {
      "text/html": [
       "<div>\n",
       "<style scoped>\n",
       "    .dataframe tbody tr th:only-of-type {\n",
       "        vertical-align: middle;\n",
       "    }\n",
       "\n",
       "    .dataframe tbody tr th {\n",
       "        vertical-align: top;\n",
       "    }\n",
       "\n",
       "    .dataframe thead th {\n",
       "        text-align: right;\n",
       "    }\n",
       "</style>\n",
       "<table border=\"1\" class=\"dataframe\">\n",
       "  <thead>\n",
       "    <tr style=\"text-align: right;\">\n",
       "      <th></th>\n",
       "      <th></th>\n",
       "      <th>TRXN_MONTH</th>\n",
       "      <th>TRXN_AMT</th>\n",
       "      <th>MERCHT_NAME</th>\n",
       "    </tr>\n",
       "    <tr>\n",
       "      <th>TRXN_DT</th>\n",
       "      <th>CATG</th>\n",
       "      <th></th>\n",
       "      <th></th>\n",
       "      <th></th>\n",
       "    </tr>\n",
       "  </thead>\n",
       "  <tbody>\n",
       "    <tr>\n",
       "      <th rowspan=\"5\" valign=\"top\">01/10/2019</th>\n",
       "      <th>Transport</th>\n",
       "      <td>Oct-19</td>\n",
       "      <td>5.30</td>\n",
       "      <td>TFL TRAVEL CHARGE TFL.GOV.UK/CP</td>\n",
       "    </tr>\n",
       "    <tr>\n",
       "      <th>Transport</th>\n",
       "      <td>Oct-19</td>\n",
       "      <td>2.90</td>\n",
       "      <td>TFL TRAVEL CHARGE TFL.GOV.UK/CP</td>\n",
       "    </tr>\n",
       "    <tr>\n",
       "      <th>Glossary</th>\n",
       "      <td>Oct-19</td>\n",
       "      <td>2.50</td>\n",
       "      <td>WAITROSE CONVENIENCE NOTTINGHAM</td>\n",
       "    </tr>\n",
       "    <tr>\n",
       "      <th>Eating Out</th>\n",
       "      <td>Oct-19</td>\n",
       "      <td>6.55</td>\n",
       "      <td>STARBUCKS TESCO LONDON</td>\n",
       "    </tr>\n",
       "    <tr>\n",
       "      <th>Transport</th>\n",
       "      <td>Oct-19</td>\n",
       "      <td>5.70</td>\n",
       "      <td>TFL TRAVEL CHARGE TFL.GOV.UK/CP</td>\n",
       "    </tr>\n",
       "  </tbody>\n",
       "</table>\n",
       "</div>"
      ],
      "text/plain": [
       "                      TRXN_MONTH  TRXN_AMT                      MERCHT_NAME\n",
       "TRXN_DT    CATG                                                            \n",
       "01/10/2019 Transport      Oct-19      5.30  TFL TRAVEL CHARGE TFL.GOV.UK/CP\n",
       "           Transport      Oct-19      2.90  TFL TRAVEL CHARGE TFL.GOV.UK/CP\n",
       "           Glossary       Oct-19      2.50  WAITROSE CONVENIENCE NOTTINGHAM\n",
       "           Eating Out     Oct-19      6.55           STARBUCKS TESCO LONDON\n",
       "           Transport      Oct-19      5.70  TFL TRAVEL CHARGE TFL.GOV.UK/CP"
      ]
     },
     "execution_count": 106,
     "metadata": {},
     "output_type": "execute_result"
    }
   ],
   "source": [
    "df = df.set_index(['TRXN_DT', 'CATG'])\n",
    "df.head()"
   ]
  },
  {
   "cell_type": "markdown",
   "metadata": {},
   "source": [
    "* Querying the data"
   ]
  },
  {
   "cell_type": "code",
   "execution_count": 107,
   "metadata": {},
   "outputs": [
    {
     "data": {
      "text/html": [
       "<div>\n",
       "<style scoped>\n",
       "    .dataframe tbody tr th:only-of-type {\n",
       "        vertical-align: middle;\n",
       "    }\n",
       "\n",
       "    .dataframe tbody tr th {\n",
       "        vertical-align: top;\n",
       "    }\n",
       "\n",
       "    .dataframe thead th {\n",
       "        text-align: right;\n",
       "    }\n",
       "</style>\n",
       "<table border=\"1\" class=\"dataframe\">\n",
       "  <thead>\n",
       "    <tr style=\"text-align: right;\">\n",
       "      <th></th>\n",
       "      <th></th>\n",
       "      <th>TRXN_MONTH</th>\n",
       "      <th>TRXN_AMT</th>\n",
       "      <th>MERCHT_NAME</th>\n",
       "    </tr>\n",
       "    <tr>\n",
       "      <th>TRXN_DT</th>\n",
       "      <th>CATG</th>\n",
       "      <th></th>\n",
       "      <th></th>\n",
       "      <th></th>\n",
       "    </tr>\n",
       "  </thead>\n",
       "  <tbody>\n",
       "    <tr>\n",
       "      <th rowspan=\"7\" valign=\"top\">01/10/2019</th>\n",
       "      <th>Transport</th>\n",
       "      <td>Oct-19</td>\n",
       "      <td>5.30</td>\n",
       "      <td>TFL TRAVEL CHARGE TFL.GOV.UK/CP</td>\n",
       "    </tr>\n",
       "    <tr>\n",
       "      <th>Transport</th>\n",
       "      <td>Oct-19</td>\n",
       "      <td>2.90</td>\n",
       "      <td>TFL TRAVEL CHARGE TFL.GOV.UK/CP</td>\n",
       "    </tr>\n",
       "    <tr>\n",
       "      <th>Transport</th>\n",
       "      <td>Oct-19</td>\n",
       "      <td>5.70</td>\n",
       "      <td>TFL TRAVEL CHARGE TFL.GOV.UK/CP</td>\n",
       "    </tr>\n",
       "    <tr>\n",
       "      <th>Transport</th>\n",
       "      <td>Oct-19</td>\n",
       "      <td>4.40</td>\n",
       "      <td>TFL TRAVEL CHARGE TFL.GOV.UK/CP</td>\n",
       "    </tr>\n",
       "    <tr>\n",
       "      <th>Transport</th>\n",
       "      <td>Oct-19</td>\n",
       "      <td>5.30</td>\n",
       "      <td>TFL TRAVEL CHARGE TFL.GOV.UK/CP</td>\n",
       "    </tr>\n",
       "    <tr>\n",
       "      <th>Transport</th>\n",
       "      <td>Oct-19</td>\n",
       "      <td>5.80</td>\n",
       "      <td>TFL TRAVEL CHARGE TFL.GOV.UK/CP</td>\n",
       "    </tr>\n",
       "    <tr>\n",
       "      <th>Transport</th>\n",
       "      <td>Oct-19</td>\n",
       "      <td>5.70</td>\n",
       "      <td>TFL TRAVEL CHARGE TFL.GOV.UK/CP</td>\n",
       "    </tr>\n",
       "    <tr>\n",
       "      <th>02/10/2019</th>\n",
       "      <th>Glossary</th>\n",
       "      <td>Oct-19</td>\n",
       "      <td>3.91</td>\n",
       "      <td>CAPITAL ONE</td>\n",
       "    </tr>\n",
       "  </tbody>\n",
       "</table>\n",
       "</div>"
      ],
      "text/plain": [
       "                     TRXN_MONTH  TRXN_AMT                      MERCHT_NAME\n",
       "TRXN_DT    CATG                                                           \n",
       "01/10/2019 Transport     Oct-19      5.30  TFL TRAVEL CHARGE TFL.GOV.UK/CP\n",
       "           Transport     Oct-19      2.90  TFL TRAVEL CHARGE TFL.GOV.UK/CP\n",
       "           Transport     Oct-19      5.70  TFL TRAVEL CHARGE TFL.GOV.UK/CP\n",
       "           Transport     Oct-19      4.40  TFL TRAVEL CHARGE TFL.GOV.UK/CP\n",
       "           Transport     Oct-19      5.30  TFL TRAVEL CHARGE TFL.GOV.UK/CP\n",
       "           Transport     Oct-19      5.80  TFL TRAVEL CHARGE TFL.GOV.UK/CP\n",
       "           Transport     Oct-19      5.70  TFL TRAVEL CHARGE TFL.GOV.UK/CP\n",
       "02/10/2019 Glossary      Oct-19      3.91                      CAPITAL ONE"
      ]
     },
     "execution_count": 107,
     "metadata": {},
     "output_type": "execute_result"
    }
   ],
   "source": [
    "df.loc[[('01/10/2019', 'Transport'), ('02/10/2019', 'Glossary')]]"
   ]
  },
  {
   "cell_type": "markdown",
   "metadata": {},
   "source": [
    "## 6. Missing Values"
   ]
  },
  {
   "cell_type": "code",
   "execution_count": 111,
   "metadata": {},
   "outputs": [
    {
     "data": {
      "text/html": [
       "<div>\n",
       "<style scoped>\n",
       "    .dataframe tbody tr th:only-of-type {\n",
       "        vertical-align: middle;\n",
       "    }\n",
       "\n",
       "    .dataframe tbody tr th {\n",
       "        vertical-align: top;\n",
       "    }\n",
       "\n",
       "    .dataframe thead th {\n",
       "        text-align: right;\n",
       "    }\n",
       "</style>\n",
       "<table border=\"1\" class=\"dataframe\">\n",
       "  <thead>\n",
       "    <tr style=\"text-align: right;\">\n",
       "      <th></th>\n",
       "      <th></th>\n",
       "      <th>TRXN_MONTH</th>\n",
       "      <th>TRXN_AMT</th>\n",
       "      <th>MERCHT_NAME</th>\n",
       "    </tr>\n",
       "    <tr>\n",
       "      <th>TRXN_DT</th>\n",
       "      <th>CATG</th>\n",
       "      <th></th>\n",
       "      <th></th>\n",
       "      <th></th>\n",
       "    </tr>\n",
       "  </thead>\n",
       "  <tbody>\n",
       "    <tr>\n",
       "      <th rowspan=\"5\" valign=\"top\">01/10/2019</th>\n",
       "      <th>Transport</th>\n",
       "      <td>Oct-19</td>\n",
       "      <td>5.30</td>\n",
       "      <td>TFL TRAVEL CHARGE TFL.GOV.UK/CP</td>\n",
       "    </tr>\n",
       "    <tr>\n",
       "      <th>Transport</th>\n",
       "      <td>Oct-19</td>\n",
       "      <td>2.90</td>\n",
       "      <td>TFL TRAVEL CHARGE TFL.GOV.UK/CP</td>\n",
       "    </tr>\n",
       "    <tr>\n",
       "      <th>Glossary</th>\n",
       "      <td>Oct-19</td>\n",
       "      <td>2.50</td>\n",
       "      <td>WAITROSE CONVENIENCE NOTTINGHAM</td>\n",
       "    </tr>\n",
       "    <tr>\n",
       "      <th>Eating Out</th>\n",
       "      <td>Oct-19</td>\n",
       "      <td>6.55</td>\n",
       "      <td>STARBUCKS TESCO LONDON</td>\n",
       "    </tr>\n",
       "    <tr>\n",
       "      <th>Transport</th>\n",
       "      <td>Oct-19</td>\n",
       "      <td>5.70</td>\n",
       "      <td>TFL TRAVEL CHARGE TFL.GOV.UK/CP</td>\n",
       "    </tr>\n",
       "  </tbody>\n",
       "</table>\n",
       "</div>"
      ],
      "text/plain": [
       "                      TRXN_MONTH  TRXN_AMT                      MERCHT_NAME\n",
       "TRXN_DT    CATG                                                            \n",
       "01/10/2019 Transport      Oct-19      5.30  TFL TRAVEL CHARGE TFL.GOV.UK/CP\n",
       "           Transport      Oct-19      2.90  TFL TRAVEL CHARGE TFL.GOV.UK/CP\n",
       "           Glossary       Oct-19      2.50  WAITROSE CONVENIENCE NOTTINGHAM\n",
       "           Eating Out     Oct-19      6.55           STARBUCKS TESCO LONDON\n",
       "           Transport      Oct-19      5.70  TFL TRAVEL CHARGE TFL.GOV.UK/CP"
      ]
     },
     "execution_count": 111,
     "metadata": {},
     "output_type": "execute_result"
    }
   ],
   "source": [
    "df.fillna\n",
    "df.head()"
   ]
  }
 ],
 "metadata": {
  "kernelspec": {
   "display_name": "Python 3",
   "language": "python",
   "name": "python3"
  },
  "language_info": {
   "codemirror_mode": {
    "name": "ipython",
    "version": 3
   },
   "file_extension": ".py",
   "mimetype": "text/x-python",
   "name": "python",
   "nbconvert_exporter": "python",
   "pygments_lexer": "ipython3",
   "version": "3.7.3"
  }
 },
 "nbformat": 4,
 "nbformat_minor": 4
}
